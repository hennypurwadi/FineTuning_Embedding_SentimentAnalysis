{
 "cells": [
  {
   "cell_type": "markdown",
   "metadata": {},
   "source": [
    "## European Restaurant Reviews\n",
    "Reviews of various European restaurants by customers.\n",
    "This dataset contains customer reviews for various restaurants, divided into positive and negative sentiments. Reviews are crucial for each restaurant’s reputation and are updated daily.\n",
    "\n",
    "https://www.kaggle.com/datasets/gorororororo23/european-restaurant-reviews"
   ]
  },
  {
   "cell_type": "code",
   "execution_count": 1,
   "metadata": {},
   "outputs": [
    {
     "name": "stdout",
     "output_type": "stream",
     "text": [
      "C:\\Users\\HENNY PURWADI\\PYTHON\\FT_Embed\\FineTune_Embed\n"
     ]
    }
   ],
   "source": [
    "import os\n",
    "print(os.getcwd())"
   ]
  },
  {
   "cell_type": "code",
   "execution_count": 3,
   "metadata": {},
   "outputs": [
    {
     "name": "stdout",
     "output_type": "stream",
     "text": [
      "WARNING:tensorflow:From C:\\ProgramData\\anaconda3\\envs\\myenvi2\\Lib\\site-packages\\tf_keras\\src\\losses.py:2976: The name tf.losses.sparse_softmax_cross_entropy is deprecated. Please use tf.compat.v1.losses.sparse_softmax_cross_entropy instead.\n",
      "\n"
     ]
    }
   ],
   "source": [
    "import pandas as pd\n",
    "import numpy as np\n",
    "import matplotlib.pyplot as plt\n",
    "import seaborn as sns\n",
    "pd.set_option('display.max_colwidth', 160)\n",
    "\n",
    "# Scikit-learn\n",
    "from sklearn.model_selection import train_test_split, cross_val_score\n",
    "from sklearn.pipeline import Pipeline\n",
    "from sklearn.feature_extraction.text import CountVectorizer, TfidfVectorizer\n",
    "from sklearn.naive_bayes import BernoulliNB, MultinomialNB\n",
    "from sklearn.linear_model import LogisticRegression\n",
    "from sklearn.svm import LinearSVC, SVC\n",
    "from sklearn.preprocessing import LabelEncoder\n",
    "from sklearn.metrics import classification_report, confusion_matrix, accuracy_score\n",
    "from sklearn import metrics\n",
    "\n",
    "import joblib\n",
    "import pickle\n",
    "from imblearn.over_sampling import SMOTE\n",
    "\n",
    "import torch\n",
    "from transformers import DistilBertTokenizer, DistilBertForSequenceClassification, Trainer, TrainingArguments,TrainerCallback\n",
    "from sklearn.preprocessing import LabelEncoder\n",
    "from sklearn.model_selection import train_test_split\n",
    "from sklearn.metrics import classification_report\n",
    "from sklearn.metrics import accuracy_score, precision_recall_fscore_support, confusion_matrix\n",
    "import matplotlib.pyplot as plt\n",
    "from torch.utils.data import DataLoader, Dataset, WeightedRandomSampler\n",
    "\n",
    "import warnings\n",
    "warnings.filterwarnings(\"ignore\")"
   ]
  },
  {
   "cell_type": "code",
   "execution_count": 4,
   "metadata": {},
   "outputs": [
    {
     "data": {
      "text/html": [
       "<div>\n",
       "<style scoped>\n",
       "    .dataframe tbody tr th:only-of-type {\n",
       "        vertical-align: middle;\n",
       "    }\n",
       "\n",
       "    .dataframe tbody tr th {\n",
       "        vertical-align: top;\n",
       "    }\n",
       "\n",
       "    .dataframe thead th {\n",
       "        text-align: right;\n",
       "    }\n",
       "</style>\n",
       "<table border=\"1\" class=\"dataframe\">\n",
       "  <thead>\n",
       "    <tr style=\"text-align: right;\">\n",
       "      <th></th>\n",
       "      <th>Sentiment</th>\n",
       "      <th>Label</th>\n",
       "      <th>Review</th>\n",
       "    </tr>\n",
       "  </thead>\n",
       "  <tbody>\n",
       "    <tr>\n",
       "      <th>0</th>\n",
       "      <td>Negative</td>\n",
       "      <td>0</td>\n",
       "      <td>Rude managerThe manager became agressive when I said the carbonara was not good. She was rude. It was  a very bad experience. The worst in Rome in many years.</td>\n",
       "    </tr>\n",
       "    <tr>\n",
       "      <th>1</th>\n",
       "      <td>Negative</td>\n",
       "      <td>0</td>\n",
       "      <td>A big disappointmentI ordered a beef fillet ask to be done medium, I got it well done cooked and very dry, when I told them they took the steak and after 20...</td>\n",
       "    </tr>\n",
       "  </tbody>\n",
       "</table>\n",
       "</div>"
      ],
      "text/plain": [
       "  Sentiment  Label  \\\n",
       "0  Negative      0   \n",
       "1  Negative      0   \n",
       "\n",
       "                                                                                                                                                            Review  \n",
       "0   Rude managerThe manager became agressive when I said the carbonara was not good. She was rude. It was  a very bad experience. The worst in Rome in many years.  \n",
       "1  A big disappointmentI ordered a beef fillet ask to be done medium, I got it well done cooked and very dry, when I told them they took the steak and after 20...  "
      ]
     },
     "execution_count": 4,
     "metadata": {},
     "output_type": "execute_result"
    }
   ],
   "source": [
    "# Read CSV file\n",
    "df = pd.read_csv('./data/Reviews.csv')\n",
    "df.head(2)"
   ]
  },
  {
   "cell_type": "code",
   "execution_count": 5,
   "metadata": {},
   "outputs": [
    {
     "data": {
      "text/plain": [
       "1502"
      ]
     },
     "execution_count": 5,
     "metadata": {},
     "output_type": "execute_result"
    }
   ],
   "source": [
    "len(df)"
   ]
  },
  {
   "cell_type": "code",
   "execution_count": 6,
   "metadata": {},
   "outputs": [
    {
     "data": {
      "text/plain": [
       "Index(['Sentiment', 'Label', 'Review'], dtype='object')"
      ]
     },
     "execution_count": 6,
     "metadata": {},
     "output_type": "execute_result"
    }
   ],
   "source": [
    "df.columns"
   ]
  },
  {
   "cell_type": "code",
   "execution_count": 7,
   "metadata": {},
   "outputs": [
    {
     "data": {
      "text/plain": [
       "Sentiment\n",
       "Positive    1237\n",
       "Negative     265\n",
       "Name: count, dtype: int64"
      ]
     },
     "execution_count": 7,
     "metadata": {},
     "output_type": "execute_result"
    }
   ],
   "source": [
    "#Find unique values in df['Sentiment'] \n",
    "unique_Sentiment= df['Sentiment'] .unique()\n",
    "df_Sentiment_counts = df['Sentiment'].value_counts()\n",
    "df_Sentiment_counts"
   ]
  },
  {
   "cell_type": "markdown",
   "metadata": {},
   "source": [
    "### There is an imbalanced dataset of sentiments between Positive and Negative"
   ]
  },
  {
   "cell_type": "code",
   "execution_count": 9,
   "metadata": {},
   "outputs": [
    {
     "data": {
      "image/png": "[encoded data removed]",
      "text/plain": [
       "<Figure size 300x300 with 1 Axes>"
      ]
     },
     "metadata": {},
     "output_type": "display_data"
    }
   ],
   "source": [
    "plt.figure(figsize=(3, 3))\n",
    "plt.pie(df_Sentiment_counts, labels=df_Sentiment_counts.index, autopct='%1.1f%%', colors=['#66c2a5', '#fc8d62', '#8da0cb'])\n",
    "plt.title('Distribution of Sentiments', fontsize=16)\n",
    "plt.show()"
   ]
  },
  {
   "cell_type": "markdown",
   "metadata": {},
   "source": [
    "Unlike traditional Machine Learning Models like Logistic Regression, Random Forest, or SVM, which need to convert text data into a numerical format, when using BERT or similar pre-trained transformer models, we don't need to apply traditional text preprocessing steps like TF-IDF, regex cleaning, or other NLP techniques like stemming or lemmatization. BERT models handle these preprocessing steps internally, including tokenization and handling of special characters.\n",
    "\n",
    "### Fine-tunes DistilBertForSequenceClassification and balancing the imbalanced dataset in the Reviews dataset.\n",
    "\n",
    "1. Fine-tuning : Directly fine-tune DistilBertForSequenceClassification on the EuropeanRestaurantReviews dataset.\n",
    "\n",
    "2. Evaluation: Evaluate the fine-tuned model.\n",
    "   \n",
    "3. Saving and Loading the Model: Save the fine-tuned model and load it for making predictions.\n",
    "\n",
    "4. Prediction Function: Use the fine-tuned model to predict sentiment directly from user input."
   ]
  },
  {
   "cell_type": "code",
   "execution_count": 17,
   "metadata": {},
   "outputs": [],
   "source": [
    "# Preprocess the text data using DistilBERT tokenizer\n",
    "tokenizer = DistilBertTokenizer.from_pretrained('distilbert-base-uncased')"
   ]
  },
  {
   "cell_type": "code",
   "execution_count": 19,
   "metadata": {},
   "outputs": [],
   "source": [
    "# Function to tokenize data\n",
    "def tokenize_data(reviews, labels):\n",
    "    encodings = tokenizer(reviews, truncation=True, padding=True, max_length=128)\n",
    "    dataset = [{'input_ids': torch.tensor(encodings['input_ids'][i]),\n",
    "                'attention_mask': torch.tensor(encodings['attention_mask'][i]),\n",
    "                'labels': torch.tensor(labels[i])} for i in range(len(reviews))]\n",
    "    return dataset"
   ]
  },
  {
   "cell_type": "code",
   "execution_count": 21,
   "metadata": {},
   "outputs": [],
   "source": [
    "# Split the data\n",
    "train_texts, test_texts, train_labels, test_labels = train_test_split(df['Review'], df['Label'], test_size=0.3, random_state=42)\n",
    "\n",
    "train_dataset = tokenize_data(train_texts.tolist(), train_labels.tolist())\n",
    "test_dataset = tokenize_data(test_texts.tolist(), test_labels.tolist())"
   ]
  },
  {
   "cell_type": "code",
   "execution_count": 22,
   "metadata": {},
   "outputs": [],
   "source": [
    "# Calculate class weights for handling imbalanced data\n",
    "class_weights = torch.tensor([len(train_labels) / (len(np.unique(train_labels)) * np.bincount(train_labels))], dtype=torch.float)\n",
    "class_weights = class_weights.squeeze()"
   ]
  },
  {
   "cell_type": "code",
   "execution_count": 23,
   "metadata": {},
   "outputs": [
    {
     "name": "stderr",
     "output_type": "stream",
     "text": [
      "Some weights of DistilBertForSequenceClassification were not initialized from the model checkpoint at distilbert-base-uncased and are newly initialized: ['classifier.bias', 'classifier.weight', 'pre_classifier.bias', 'pre_classifier.weight']\n",
      "You should probably TRAIN this model on a down-stream task to be able to use it for predictions and inference.\n"
     ]
    }
   ],
   "source": [
    "# Load DistilBERT model for sequence classification\n",
    "model = DistilBertForSequenceClassification.from_pretrained('distilbert-base-uncased', num_labels=2)"
   ]
  },
  {
   "cell_type": "markdown",
   "metadata": {},
   "source": [
    "## Fine-tuning DistilBertForSequenceClassification Model"
   ]
  },
  {
   "cell_type": "code",
   "execution_count": 28,
   "metadata": {},
   "outputs": [],
   "source": [
    "# Training arguments for fine-tuning DistilBERT\n",
    "\n",
    "training_args = TrainingArguments(\n",
    "    output_dir='./results',          \n",
    "    num_train_epochs=5,              \n",
    "    per_device_train_batch_size=16,  \n",
    "    per_device_eval_batch_size=16,   \n",
    "    warmup_steps=500,                \n",
    "    weight_decay=0.01,               \n",
    "    logging_dir='./logs',            \n",
    "    logging_steps=10,\n",
    "    evaluation_strategy=\"epoch\",\n",
    "    save_strategy=\"epoch\",\n",
    "    load_best_model_at_end=True,\n",
    "    metric_for_best_model=\"accuracy\",\n",
    "    greater_is_better=True\n",
    ")\n",
    "\n",
    "# Compute metrics function\n",
    "def compute_metrics(p):\n",
    "    preds = np.argmax(p.predictions, axis=1)\n",
    "    labels = p.label_ids\n",
    "    accuracy = accuracy_score(labels, preds)\n",
    "    precision, recall, f1, _ = precision_recall_fscore_support(labels, preds, average='binary')\n",
    "    return {\n",
    "        'accuracy': accuracy,\n",
    "        'f1': f1,\n",
    "        'precision': precision,\n",
    "        'recall': recall\n",
    "    }"
   ]
  },
  {
   "cell_type": "markdown",
   "metadata": {},
   "source": [
    "To include a chart of performance, including the loss, in the training process, need to extend the Trainer class to log the loss values during training and evaluation. After training, we can plot these metrics to visualize the performance"
   ]
  },
  {
   "cell_type": "code",
   "execution_count": 30,
   "metadata": {},
   "outputs": [
    {
     "data": {
      "text/html": [
       "\n",
       "    <div>\n",
       "      \n",
       "      <progress value='330' max='330' style='width:300px; height:20px; vertical-align: middle;'></progress>\n",
       "      [330/330 12:39, Epoch 5/5]\n",
       "    </div>\n",
       "    <table border=\"1\" class=\"dataframe\">\n",
       "  <thead>\n",
       " <tr style=\"text-align: left;\">\n",
       "      <th>Epoch</th>\n",
       "      <th>Training Loss</th>\n",
       "      <th>Validation Loss</th>\n",
       "      <th>Accuracy</th>\n",
       "      <th>F1</th>\n",
       "      <th>Precision</th>\n",
       "      <th>Recall</th>\n",
       "    </tr>\n",
       "  </thead>\n",
       "  <tbody>\n",
       "    <tr>\n",
       "      <td>1</td>\n",
       "      <td>0.652600</td>\n",
       "      <td>0.598996</td>\n",
       "      <td>0.933481</td>\n",
       "      <td>0.960422</td>\n",
       "      <td>0.955381</td>\n",
       "      <td>0.965517</td>\n",
       "    </tr>\n",
       "    <tr>\n",
       "      <td>2</td>\n",
       "      <td>0.130100</td>\n",
       "      <td>0.135509</td>\n",
       "      <td>0.971175</td>\n",
       "      <td>0.982690</td>\n",
       "      <td>0.986631</td>\n",
       "      <td>0.978780</td>\n",
       "    </tr>\n",
       "    <tr>\n",
       "      <td>3</td>\n",
       "      <td>0.166300</td>\n",
       "      <td>0.179355</td>\n",
       "      <td>0.975610</td>\n",
       "      <td>0.985507</td>\n",
       "      <td>0.979058</td>\n",
       "      <td>0.992042</td>\n",
       "    </tr>\n",
       "    <tr>\n",
       "      <td>4</td>\n",
       "      <td>0.039500</td>\n",
       "      <td>0.188477</td>\n",
       "      <td>0.977827</td>\n",
       "      <td>0.986737</td>\n",
       "      <td>0.986737</td>\n",
       "      <td>0.986737</td>\n",
       "    </tr>\n",
       "    <tr>\n",
       "      <td>5</td>\n",
       "      <td>0.018300</td>\n",
       "      <td>0.196552</td>\n",
       "      <td>0.973392</td>\n",
       "      <td>0.984043</td>\n",
       "      <td>0.986667</td>\n",
       "      <td>0.981432</td>\n",
       "    </tr>\n",
       "  </tbody>\n",
       "</table><p>"
      ],
      "text/plain": [
       "<IPython.core.display.HTML object>"
      ]
     },
     "metadata": {},
     "output_type": "display_data"
    },
    {
     "data": {
      "image/png": "[encoded data removed]",
      "text/plain": [
       "<Figure size 1200x600 with 2 Axes>"
      ]
     },
     "metadata": {},
     "output_type": "display_data"
    }
   ],
   "source": [
    "import matplotlib.pyplot as plt\n",
    "from transformers import TrainerCallback\n",
    "\n",
    "# Callback to log loss and metrics\n",
    "class MetricsCallback(TrainerCallback):\n",
    "    def __init__(self):\n",
    "        self.metrics = {'train_loss': [], 'eval_loss': [], 'eval_accuracy': []}\n",
    "    \n",
    "    def on_log(self, args, state, control, logs=None, **kwargs):\n",
    "        if 'loss' in logs:\n",
    "            self.metrics['train_loss'].append((state.global_step, logs['loss']))\n",
    "        if 'eval_loss' in logs:\n",
    "            self.metrics['eval_loss'].append((state.global_step, logs['eval_loss']))\n",
    "        if 'eval_accuracy' in logs:\n",
    "            self.metrics['eval_accuracy'].append((state.global_step, logs['eval_accuracy']))\n",
    "\n",
    "# Subclass Trainer to override compute_loss method and include metrics callback\n",
    "class WeightedTrainer(Trainer):\n",
    "    def compute_loss(self, model, inputs, return_outputs=False):\n",
    "        labels = inputs.pop(\"labels\")\n",
    "        outputs = model(**inputs)\n",
    "        logits = outputs.logits\n",
    "        loss_fct = torch.nn.CrossEntropyLoss(weight=class_weights)\n",
    "        loss = loss_fct(logits, labels)\n",
    "        return (loss, outputs) if return_outputs else loss\n",
    "\n",
    "# Trainer initialization\n",
    "metrics_callback = MetricsCallback()\n",
    "trainer = WeightedTrainer(\n",
    "    model=model,                         \n",
    "    args=training_args,                  \n",
    "    train_dataset=train_dataset,         \n",
    "    eval_dataset=test_dataset,\n",
    "    compute_metrics=compute_metrics,\n",
    "    callbacks=[metrics_callback],  # Add metrics callback to the trainer\n",
    ")\n",
    "\n",
    "# Train the model\n",
    "trainer.train()\n",
    "\n",
    "# Plot the loss and accuracy curves\n",
    "train_loss = metrics_callback.metrics['train_loss']\n",
    "eval_loss = metrics_callback.metrics['eval_loss']\n",
    "eval_accuracy = metrics_callback.metrics['eval_accuracy']\n",
    "\n",
    "train_steps, train_losses = zip(*train_loss)\n",
    "eval_steps, eval_losses = zip(*eval_loss)\n",
    "_, eval_accuracies = zip(*eval_accuracy)\n",
    "\n",
    "plt.figure(figsize=(12, 6))\n",
    "\n",
    "# Plot Loss\n",
    "plt.subplot(1, 2, 1)\n",
    "plt.plot(train_steps, train_losses, label='Training Loss')\n",
    "plt.plot(eval_steps, eval_losses, label='Validation Loss')\n",
    "plt.xlabel('Steps')\n",
    "plt.ylabel('Loss')\n",
    "plt.title('Training and Validation Loss')\n",
    "plt.legend()\n",
    "\n",
    "# Plot Accuracy\n",
    "plt.subplot(1, 2, 2)\n",
    "plt.plot(eval_steps, eval_accuracies, label='Validation Accuracy', color='green')\n",
    "plt.xlabel('Steps')\n",
    "plt.ylabel('Accuracy')\n",
    "plt.title('Validation Accuracy')\n",
    "plt.legend()\n",
    "\n",
    "plt.tight_layout()\n",
    "plt.show()"
   ]
  },
  {
   "cell_type": "code",
   "execution_count": 37,
   "metadata": {},
   "outputs": [
    {
     "data": {
      "text/html": [
       "\n",
       "    <div>\n",
       "      \n",
       "      <progress value='29' max='29' style='width:300px; height:20px; vertical-align: middle;'></progress>\n",
       "      [29/29 00:13]\n",
       "    </div>\n",
       "    "
      ],
      "text/plain": [
       "<IPython.core.display.HTML object>"
      ]
     },
     "metadata": {},
     "output_type": "display_data"
    },
    {
     "name": "stdout",
     "output_type": "stream",
     "text": [
      "Metrics: {'eval_loss': 0.18847709894180298, 'eval_accuracy': 0.9778270509977827, 'eval_f1': 0.986737400530504, 'eval_precision': 0.986737400530504, 'eval_recall': 0.986737400530504, 'eval_runtime': 14.3048, 'eval_samples_per_second': 31.528, 'eval_steps_per_second': 2.027, 'epoch': 5.0}\n"
     ]
    }
   ],
   "source": [
    "# Evaluate the model\n",
    "metrics = trainer.evaluate()\n",
    "print(\"Metrics:\", metrics)"
   ]
  },
  {
   "cell_type": "markdown",
   "metadata": {},
   "source": [
    "#### Interpretation: Fine Tuning increase the performance."
   ]
  },
  {
   "cell_type": "markdown",
   "metadata": {},
   "source": [
    "### Save the fine-tuned model"
   ]
  },
  {
   "cell_type": "code",
   "execution_count": 40,
   "metadata": {},
   "outputs": [
    {
     "name": "stdout",
     "output_type": "stream",
     "text": [
      "Fine-tuning complete and model saved.\n"
     ]
    }
   ],
   "source": [
    "# Save the fine-tuned model\n",
    "model.save_pretrained('./data/fine-tuned-distilbert')\n",
    "tokenizer.save_pretrained('./data/fine-tuned-distilbert')\n",
    "\n",
    "print(\"Fine-tuning complete and model saved.\")"
   ]
  },
  {
   "cell_type": "code",
   "execution_count": 41,
   "metadata": {},
   "outputs": [],
   "source": [
    "# Load the fine-tuned model for predictions\n",
    "def load_fine_tuned_model():\n",
    "    model = DistilBertForSequenceClassification.from_pretrained('./data/fine-tuned-distilbert')\n",
    "    tokenizer = DistilBertTokenizer.from_pretrained('./data/fine-tuned-distilbert')\n",
    "    return model, tokenizer"
   ]
  },
  {
   "cell_type": "code",
   "execution_count": 42,
   "metadata": {},
   "outputs": [],
   "source": [
    "fine_tuned_model, fine_tuned_tokenizer = load_fine_tuned_model()"
   ]
  },
  {
   "cell_type": "code",
   "execution_count": 43,
   "metadata": {},
   "outputs": [],
   "source": [
    "# Predict Sentiment based on user input\n",
    "\n",
    "def predict():\n",
    "    user_input = input(\"Enter your message: \")\n",
    "    encodings = fine_tuned_tokenizer(user_input, truncation=True, padding=True, max_length=128, return_tensors='pt')\n",
    "    with torch.no_grad():\n",
    "        outputs = fine_tuned_model(**encodings)\n",
    "    logits = outputs.logits\n",
    "    prediction = torch.argmax(logits, dim=1).item()\n",
    "    print('Prediction:', 'Positive' if prediction == 1 else 'Negative')"
   ]
  },
  {
   "cell_type": "code",
   "execution_count": 44,
   "metadata": {},
   "outputs": [
    {
     "name": "stdin",
     "output_type": "stream",
     "text": [
      "Enter your message:  The manager was rude\n"
     ]
    },
    {
     "name": "stdout",
     "output_type": "stream",
     "text": [
      "Prediction: Negative\n"
     ]
    }
   ],
   "source": [
    "predict()"
   ]
  },
  {
   "cell_type": "code",
   "execution_count": 45,
   "metadata": {},
   "outputs": [
    {
     "name": "stdin",
     "output_type": "stream",
     "text": [
      "Enter your message:  The food is delicious\n"
     ]
    },
    {
     "name": "stdout",
     "output_type": "stream",
     "text": [
      "Prediction: Positive\n"
     ]
    }
   ],
   "source": [
    "predict()"
   ]
  },
  {
   "cell_type": "code",
   "execution_count": 46,
   "metadata": {},
   "outputs": [
    {
     "name": "stdin",
     "output_type": "stream",
     "text": [
      "Enter your message:  The wine tasted bad\n"
     ]
    },
    {
     "name": "stdout",
     "output_type": "stream",
     "text": [
      "Prediction: Negative\n"
     ]
    }
   ],
   "source": [
    "predict()"
   ]
  },
  {
   "cell_type": "markdown",
   "metadata": {},
   "source": [
    "#### After Fine-Tuned, the DistilBertForSequenceClassification model can predict the sentiment better"
   ]
  },
  {
   "cell_type": "code",
   "execution_count": 60,
   "metadata": {},
   "outputs": [],
   "source": [
    "# Get predictions for the test set\n",
    "test_encodings = fine_tuned_tokenizer(test_texts.tolist(), truncation=True, padding=True, max_length=128, return_tensors='pt')\n",
    "test_outputs = fine_tuned_model(**test_encodings)\n",
    "test_preds = torch.argmax(test_outputs.logits, dim=1).numpy()"
   ]
  },
  {
   "cell_type": "code",
   "execution_count": 61,
   "metadata": {},
   "outputs": [
    {
     "name": "stdout",
     "output_type": "stream",
     "text": [
      "Accuracy: 0.9778\n"
     ]
    }
   ],
   "source": [
    "# Calculate accuracy score\n",
    "accuracy = accuracy_score(test_labels, test_preds)\n",
    "print(f\"Accuracy: {accuracy:.4f}\")"
   ]
  },
  {
   "cell_type": "code",
   "execution_count": 62,
   "metadata": {},
   "outputs": [
    {
     "name": "stdout",
     "output_type": "stream",
     "text": [
      "Confusion Matrix:\n",
      "[[ 69   5]\n",
      " [  5 372]]\n"
     ]
    }
   ],
   "source": [
    "# Confusion matrix\n",
    "conf_matrix = confusion_matrix(test_labels, test_preds)\n",
    "nconf_matrix = np.round(conf_matrix / conf_matrix.sum(axis=1)[:, np.newaxis], 2)\n",
    "print(\"Confusion Matrix:\")\n",
    "print(conf_matrix)"
   ]
  },
  {
   "cell_type": "code",
   "execution_count": 63,
   "metadata": {},
   "outputs": [
    {
     "data": {
      "image/png": "[encoded data removed]",
      "text/plain": [
       "<Figure size 800x400 with 4 Axes>"
      ]
     },
     "metadata": {},
     "output_type": "display_data"
    }
   ],
   "source": [
    "# Plot heatmap\n",
    "fig, (ax1, ax2) = plt.subplots(1, 2, figsize=(8, 4))\n",
    "sns.heatmap(conf_matrix, annot=True, cmap=plt.cm.Blues, fmt=\"d\", xticklabels=['Negative', 'Positive'], yticklabels=['Negative', 'Positive'], ax=ax1)\n",
    "ax1.set_xlabel(\"Predicted labels\")\n",
    "ax1.set_ylabel(\"True labels\")\n",
    "ax1.set_title(\"Confusion Matrix\")\n",
    "sns.heatmap(nconf_matrix, annot=True, cmap=plt.cm.Greens, fmt=\".2f\", xticklabels=['Negative', 'Positive'], yticklabels=['Negative', 'Positive'], ax=ax2)\n",
    "ax2.set_xlabel(\"Predicted labels\")\n",
    "ax2.set_ylabel(\"True labels\")\n",
    "ax2.set_title(\"Normalized Confusion Matrix\")\n",
    "\n",
    "# Add some space between the subplots\n",
    "plt.subplots_adjust(wspace=0.4)\n",
    "\n",
    "# Set the aspect ratio to \"equal\"\n",
    "ax1.set_aspect(\"equal\")\n",
    "ax2.set_aspect(\"equal\")\n",
    "\n",
    "plt.show()"
   ]
  }
 ],
 "metadata": {
  "colab": {
   "authorship_tag": "ABX9TyNCRdqWVk9rmFXlCSv9XkDj",
   "provenance": []
  },
  "kernelspec": {
   "display_name": "Python(myenvi2)",
   "language": "python",
   "name": "myenvi2"
  },
  "language_info": {
   "codemirror_mode": {
    "name": "ipython",
    "version": 3
   },
   "file_extension": ".py",
   "mimetype": "text/x-python",
   "name": "python",
   "nbconvert_exporter": "python",
   "pygments_lexer": "ipython3",
   "version": "3.12.4"
  }
 },
 "nbformat": 4,
 "nbformat_minor": 4
}
