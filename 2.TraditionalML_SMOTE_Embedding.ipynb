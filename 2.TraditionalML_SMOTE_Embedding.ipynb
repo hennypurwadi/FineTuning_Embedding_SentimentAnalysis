{
 "cells": [
  {
   "cell_type": "markdown",
   "metadata": {},
   "source": [
    "## European Restaurant Reviews\n",
    "Reviews of various European restaurants by customers.\n",
    "This dataset contains customer reviews for various restaurants, divided into positive and negative sentiments. Reviews are crucial for each restaurant’s reputation and are updated daily.\n",
    "\n",
    "https://www.kaggle.com/datasets/gorororororo23/european-restaurant-reviews"
   ]
  },
  {
   "cell_type": "code",
   "execution_count": 2,
   "metadata": {},
   "outputs": [
    {
     "name": "stdout",
     "output_type": "stream",
     "text": [
      "C:\\Users\\HENNY PURWADI\\PYTHON\\FT_Embed\\FineTune_Embed\n"
     ]
    }
   ],
   "source": [
    "import os\n",
    "print(os.getcwd())"
   ]
  },
  {
   "cell_type": "code",
   "execution_count": 4,
   "metadata": {},
   "outputs": [
    {
     "name": "stderr",
     "output_type": "stream",
     "text": [
      "[nltk_data] Downloading package punkt to C:\\Users\\HENNY\n",
      "[nltk_data]     PURWADI\\AppData\\Roaming\\nltk_data...\n",
      "[nltk_data]   Package punkt is already up-to-date!\n",
      "[nltk_data] Downloading package stopwords to C:\\Users\\HENNY\n",
      "[nltk_data]     PURWADI\\AppData\\Roaming\\nltk_data...\n",
      "[nltk_data]   Package stopwords is already up-to-date!\n",
      "[nltk_data] Downloading package wordnet to C:\\Users\\HENNY\n",
      "[nltk_data]     PURWADI\\AppData\\Roaming\\nltk_data...\n",
      "[nltk_data]   Package wordnet is already up-to-date!\n"
     ]
    }
   ],
   "source": [
    "# Standard libraries\n",
    "import re\n",
    "from collections import defaultdict\n",
    "from string import punctuation\n",
    "\n",
    "# Data manipulation and visualization\n",
    "import pandas as pd\n",
    "import numpy as np\n",
    "import matplotlib.pyplot as plt\n",
    "import seaborn as sns\n",
    "pd.set_option('display.max_colwidth', 160)\n",
    "\n",
    "# Natural Language Processing (NLP)\n",
    "import nltk\n",
    "from nltk.corpus import stopwords\n",
    "from nltk.tokenize import RegexpTokenizer\n",
    "from nltk.stem import WordNetLemmatizer, PorterStemmer\n",
    "from nltk.util import bigrams, trigrams, ngrams\n",
    "from wordcloud import WordCloud\n",
    "from nltk.tokenize import RegexpTokenizer\n",
    "\n",
    "# Download necessary NLTK data\n",
    "nltk.download(\"punkt\")\n",
    "nltk.download('stopwords')\n",
    "nltk.download('wordnet')\n",
    "\n",
    "# Set stop words\n",
    "stop_words = set(stopwords.words('english'))\n",
    "\n",
    "# Scikit-learn\n",
    "from sklearn.model_selection import train_test_split, cross_val_score\n",
    "from sklearn.pipeline import Pipeline\n",
    "from sklearn.feature_extraction.text import CountVectorizer, TfidfVectorizer\n",
    "from sklearn.naive_bayes import BernoulliNB, MultinomialNB\n",
    "from sklearn.linear_model import LogisticRegression\n",
    "from sklearn.svm import LinearSVC, SVC\n",
    "from sklearn.preprocessing import LabelEncoder\n",
    "from sklearn.metrics import classification_report, confusion_matrix\n",
    "from sklearn import metrics\n",
    "\n",
    "import joblib\n",
    "import pickle\n",
    "from imblearn.over_sampling import SMOTE\n",
    "\n",
    "# Suppress warnings\n",
    "import warnings\n",
    "warnings.filterwarnings(\"ignore\")"
   ]
  },
  {
   "cell_type": "code",
   "execution_count": 8,
   "metadata": {},
   "outputs": [
    {
     "data": {
      "text/html": [
       "<div>\n",
       "<style scoped>\n",
       "    .dataframe tbody tr th:only-of-type {\n",
       "        vertical-align: middle;\n",
       "    }\n",
       "\n",
       "    .dataframe tbody tr th {\n",
       "        vertical-align: top;\n",
       "    }\n",
       "\n",
       "    .dataframe thead th {\n",
       "        text-align: right;\n",
       "    }\n",
       "</style>\n",
       "<table border=\"1\" class=\"dataframe\">\n",
       "  <thead>\n",
       "    <tr style=\"text-align: right;\">\n",
       "      <th></th>\n",
       "      <th>Sentiment</th>\n",
       "      <th>Label</th>\n",
       "      <th>Review</th>\n",
       "    </tr>\n",
       "  </thead>\n",
       "  <tbody>\n",
       "    <tr>\n",
       "      <th>0</th>\n",
       "      <td>Negative</td>\n",
       "      <td>0</td>\n",
       "      <td>Rude managerThe manager became agressive when I said the carbonara was not good. She was rude. It was  a very bad experience. The worst in Rome in many years.</td>\n",
       "    </tr>\n",
       "    <tr>\n",
       "      <th>1</th>\n",
       "      <td>Negative</td>\n",
       "      <td>0</td>\n",
       "      <td>A big disappointmentI ordered a beef fillet ask to be done medium, I got it well done cooked and very dry, when I told them they took the steak and after 20...</td>\n",
       "    </tr>\n",
       "  </tbody>\n",
       "</table>\n",
       "</div>"
      ],
      "text/plain": [
       "  Sentiment  Label  \\\n",
       "0  Negative      0   \n",
       "1  Negative      0   \n",
       "\n",
       "                                                                                                                                                            Review  \n",
       "0   Rude managerThe manager became agressive when I said the carbonara was not good. She was rude. It was  a very bad experience. The worst in Rome in many years.  \n",
       "1  A big disappointmentI ordered a beef fillet ask to be done medium, I got it well done cooked and very dry, when I told them they took the steak and after 20...  "
      ]
     },
     "execution_count": 8,
     "metadata": {},
     "output_type": "execute_result"
    }
   ],
   "source": [
    "# Read CSV file\n",
    "df = pd.read_csv('./data/Reviews.csv')\n",
    "df.head(2)"
   ]
  },
  {
   "cell_type": "code",
   "execution_count": 10,
   "metadata": {},
   "outputs": [
    {
     "data": {
      "text/plain": [
       "1502"
      ]
     },
     "execution_count": 10,
     "metadata": {},
     "output_type": "execute_result"
    }
   ],
   "source": [
    "len(df)"
   ]
  },
  {
   "cell_type": "code",
   "execution_count": 12,
   "metadata": {},
   "outputs": [
    {
     "data": {
      "text/plain": [
       "Index(['Sentiment', 'Label', 'Review'], dtype='object')"
      ]
     },
     "execution_count": 12,
     "metadata": {},
     "output_type": "execute_result"
    }
   ],
   "source": [
    "df.columns"
   ]
  },
  {
   "cell_type": "code",
   "execution_count": 14,
   "metadata": {},
   "outputs": [
    {
     "name": "stdout",
     "output_type": "stream",
     "text": [
      "['Negative' 'Positive']\n"
     ]
    }
   ],
   "source": [
    "#Find unique values in df['Sentiment'] \n",
    "unique_Sentiment= df['Sentiment'] .unique()\n",
    "print(unique_Sentiment)"
   ]
  },
  {
   "cell_type": "code",
   "execution_count": 16,
   "metadata": {},
   "outputs": [
    {
     "data": {
      "text/plain": [
       "Sentiment\n",
       "Positive    1237\n",
       "Negative     265\n",
       "Name: count, dtype: int64"
      ]
     },
     "execution_count": 16,
     "metadata": {},
     "output_type": "execute_result"
    }
   ],
   "source": [
    "df_Sentiment_counts = df['Sentiment'].value_counts()\n",
    "df_Sentiment_counts"
   ]
  },
  {
   "cell_type": "markdown",
   "metadata": {},
   "source": [
    "### There is an imbalanced dataset of sentiments between Positive and Negative"
   ]
  },
  {
   "cell_type": "code",
   "execution_count": 19,
   "metadata": {},
   "outputs": [
    {
     "data": {
      "image/png": "[encoded data removed]",
      "text/plain": [
       "<Figure size 300x300 with 1 Axes>"
      ]
     },
     "metadata": {},
     "output_type": "display_data"
    }
   ],
   "source": [
    "plt.figure(figsize=(3, 3))\n",
    "plt.pie(df_Sentiment_counts, labels=df_Sentiment_counts.index, autopct='%1.1f%%', colors=['#66c2a5', '#fc8d62', '#8da0cb'])\n",
    "plt.title('Distribution of Sentiments', fontsize=16)\n",
    "plt.show()"
   ]
  },
  {
   "cell_type": "code",
   "execution_count": 21,
   "metadata": {},
   "outputs": [
    {
     "data": {
      "text/html": [
       "<div>\n",
       "<style scoped>\n",
       "    .dataframe tbody tr th:only-of-type {\n",
       "        vertical-align: middle;\n",
       "    }\n",
       "\n",
       "    .dataframe tbody tr th {\n",
       "        vertical-align: top;\n",
       "    }\n",
       "\n",
       "    .dataframe thead th {\n",
       "        text-align: right;\n",
       "    }\n",
       "</style>\n",
       "<table border=\"1\" class=\"dataframe\">\n",
       "  <thead>\n",
       "    <tr style=\"text-align: right;\">\n",
       "      <th></th>\n",
       "      <th>Sentiment</th>\n",
       "      <th>Label</th>\n",
       "      <th>Review</th>\n",
       "    </tr>\n",
       "  </thead>\n",
       "  <tbody>\n",
       "    <tr>\n",
       "      <th>128</th>\n",
       "      <td>Negative</td>\n",
       "      <td>0</td>\n",
       "      <td>Overrated and touristyUnfortunately the food was just average. No dish was really convincing. The greeting from the kitchen was okay but not a highlight in ...</td>\n",
       "    </tr>\n",
       "    <tr>\n",
       "      <th>129</th>\n",
       "      <td>Negative</td>\n",
       "      <td>0</td>\n",
       "      <td>Bad tasting food difficult to digestWe didn't like the food that much.\\n\\nThe starters were tasteless\\n\\nand hard to digest.\\n\\nThe pasta was nothing specia...</td>\n",
       "    </tr>\n",
       "    <tr>\n",
       "      <th>130</th>\n",
       "      <td>Negative</td>\n",
       "      <td>0</td>\n",
       "      <td>Pretty dissappointing.I actually never write reviews for the restaurants, but for this one i just had to. The reason we decided to check this place out was ...</td>\n",
       "    </tr>\n",
       "    <tr>\n",
       "      <th>131</th>\n",
       "      <td>Negative</td>\n",
       "      <td>0</td>\n",
       "      <td>SorryI'm afraid we were very let down by this restaurant.\\nWe were left standing at the door for 5 minutes before being seated. We decided on the tasting me...</td>\n",
       "    </tr>\n",
       "  </tbody>\n",
       "</table>\n",
       "</div>"
      ],
      "text/plain": [
       "    Sentiment  Label  \\\n",
       "128  Negative      0   \n",
       "129  Negative      0   \n",
       "130  Negative      0   \n",
       "131  Negative      0   \n",
       "\n",
       "                                                                                                                                                              Review  \n",
       "128  Overrated and touristyUnfortunately the food was just average. No dish was really convincing. The greeting from the kitchen was okay but not a highlight in ...  \n",
       "129  Bad tasting food difficult to digestWe didn't like the food that much.\\n\\nThe starters were tasteless\\n\\nand hard to digest.\\n\\nThe pasta was nothing specia...  \n",
       "130  Pretty dissappointing.I actually never write reviews for the restaurants, but for this one i just had to. The reason we decided to check this place out was ...  \n",
       "131  SorryI'm afraid we were very let down by this restaurant.\\nWe were left standing at the door for 5 minutes before being seated. We decided on the tasting me...  "
      ]
     },
     "execution_count": 21,
     "metadata": {},
     "output_type": "execute_result"
    }
   ],
   "source": [
    "# Map sentiment labels to numerical values\n",
    "df['Label'] = df['Sentiment'].map({'Positive': 1,'Negative': 0,})\n",
    "df.iloc[128:132]"
   ]
  },
  {
   "cell_type": "markdown",
   "metadata": {},
   "source": [
    "## Data Cleaning"
   ]
  },
  {
   "cell_type": "code",
   "execution_count": 24,
   "metadata": {},
   "outputs": [],
   "source": [
    "def clean_text(text):\n",
    "    # Remove URLs\n",
    "    text = re.sub(r'(http|ftp|https):\\/\\/([\\w\\-_]+(?:(?:\\.[\\w\\-_]+)+))([\\w\\-\\.,@?^=%&:/~\\+#]*[\\w\\-\\@?^=%&/~\\+#])?', ' ', text)\n",
    "    # Remove punctuation\n",
    "    text = re.sub(r'[' + punctuation + ']', ' ', text)\n",
    "    # Remove hashtags\n",
    "    text = re.sub(r'#(\\w+)', ' ', text)\n",
    "    # Remove mentions\n",
    "    text = re.sub(r'@(\\w+)', ' ', text)\n",
    "    # Convert to lowercase\n",
    "    text = text.lower()\n",
    "\n",
    "    # Tokenize the text\n",
    "    tokenizer = RegexpTokenizer(r'\\w+')\n",
    "    tokens = tokenizer.tokenize(text)\n",
    "\n",
    "    return ' '.join(tokens)\n",
    "\n",
    "def clean_text2(text):\n",
    "    # Remove URLs\n",
    "    text = re.sub(r'(http|ftp|https):\\/\\/([\\w\\-_]+(?:(?:\\.[\\w\\-_]+)+))([\\w\\-\\.,@?^=%&:/~\\+#]*[\\w\\-\\@?^=%&/~\\+#])?', ' ', text)\n",
    "    # Remove punctuation\n",
    "    text = re.sub(r'[' + punctuation + ']', ' ', text)\n",
    "    # Remove hashtags\n",
    "    text = re.sub(r'#(\\w+)', ' ', text)\n",
    "    # Remove mentions\n",
    "    text = re.sub(r'@(\\w+)', ' ', text)\n",
    "    # Convert to lowercase\n",
    "    text = text.lower()\n",
    "\n",
    "    # Tokenize the text\n",
    "    tokenizer = RegexpTokenizer(r'\\w+')\n",
    "    tokens = tokenizer.tokenize(text)\n",
    "\n",
    "    # Lemmatize and stem the tokens\n",
    "    lemmatizer = WordNetLemmatizer()\n",
    "    stems = [lemmatizer.lemmatize(t) for t in tokens]\n",
    "    stemmer = PorterStemmer()\n",
    "    stems = [stemmer.stem(t) for t in stems]    \n",
    "    return ' '.join(stems)\n",
    "\n",
    "def tokenize(text):\n",
    "    tokenizer = RegexpTokenizer(r'\\w+')\n",
    "    tokens = tokenizer.tokenize(text)\n",
    "    \n",
    "    return tokens"
   ]
  },
  {
   "cell_type": "code",
   "execution_count": 26,
   "metadata": {},
   "outputs": [
    {
     "data": {
      "text/html": [
       "<div>\n",
       "<style scoped>\n",
       "    .dataframe tbody tr th:only-of-type {\n",
       "        vertical-align: middle;\n",
       "    }\n",
       "\n",
       "    .dataframe tbody tr th {\n",
       "        vertical-align: top;\n",
       "    }\n",
       "\n",
       "    .dataframe thead th {\n",
       "        text-align: right;\n",
       "    }\n",
       "</style>\n",
       "<table border=\"1\" class=\"dataframe\">\n",
       "  <thead>\n",
       "    <tr style=\"text-align: right;\">\n",
       "      <th></th>\n",
       "      <th>Sentiment</th>\n",
       "      <th>Label</th>\n",
       "      <th>Review</th>\n",
       "      <th>CleanedReview</th>\n",
       "    </tr>\n",
       "  </thead>\n",
       "  <tbody>\n",
       "    <tr>\n",
       "      <th>128</th>\n",
       "      <td>Negative</td>\n",
       "      <td>0</td>\n",
       "      <td>Overrated and touristyUnfortunately the food was just average. No dish was really convincing. The greeting from the kitchen was okay but not a highlight in ...</td>\n",
       "      <td>overr and touristyunfortun the food wa just averag no dish wa realli convinc the greet from the kitchen wa okay but not a highlight in term of tast the tart...</td>\n",
       "    </tr>\n",
       "    <tr>\n",
       "      <th>129</th>\n",
       "      <td>Negative</td>\n",
       "      <td>0</td>\n",
       "      <td>Bad tasting food difficult to digestWe didn't like the food that much.\\n\\nThe starters were tasteless\\n\\nand hard to digest.\\n\\nThe pasta was nothing specia...</td>\n",
       "      <td>bad tast food difficult to digestw didn t like the food that much the starter were tasteless and hard to digest the pasta wa noth special the main cours wa ...</td>\n",
       "    </tr>\n",
       "    <tr>\n",
       "      <th>130</th>\n",
       "      <td>Negative</td>\n",
       "      <td>0</td>\n",
       "      <td>Pretty dissappointing.I actually never write reviews for the restaurants, but for this one i just had to. The reason we decided to check this place out was ...</td>\n",
       "      <td>pretti dissappoint i actual never write review for the restaur but for thi one i just had to the reason we decid to check thi place out wa onli becaus of hi...</td>\n",
       "    </tr>\n",
       "    <tr>\n",
       "      <th>131</th>\n",
       "      <td>Negative</td>\n",
       "      <td>0</td>\n",
       "      <td>SorryI'm afraid we were very let down by this restaurant.\\nWe were left standing at the door for 5 minutes before being seated. We decided on the tasting me...</td>\n",
       "      <td>sorryi m afraid we were veri let down by thi restaur we were left stand at the door for 5 minut befor be seat we decid on the tast menu for land with wine a...</td>\n",
       "    </tr>\n",
       "  </tbody>\n",
       "</table>\n",
       "</div>"
      ],
      "text/plain": [
       "    Sentiment  Label  \\\n",
       "128  Negative      0   \n",
       "129  Negative      0   \n",
       "130  Negative      0   \n",
       "131  Negative      0   \n",
       "\n",
       "                                                                                                                                                              Review  \\\n",
       "128  Overrated and touristyUnfortunately the food was just average. No dish was really convincing. The greeting from the kitchen was okay but not a highlight in ...   \n",
       "129  Bad tasting food difficult to digestWe didn't like the food that much.\\n\\nThe starters were tasteless\\n\\nand hard to digest.\\n\\nThe pasta was nothing specia...   \n",
       "130  Pretty dissappointing.I actually never write reviews for the restaurants, but for this one i just had to. The reason we decided to check this place out was ...   \n",
       "131  SorryI'm afraid we were very let down by this restaurant.\\nWe were left standing at the door for 5 minutes before being seated. We decided on the tasting me...   \n",
       "\n",
       "                                                                                                                                                       CleanedReview  \n",
       "128  overr and touristyunfortun the food wa just averag no dish wa realli convinc the greet from the kitchen wa okay but not a highlight in term of tast the tart...  \n",
       "129  bad tast food difficult to digestw didn t like the food that much the starter were tasteless and hard to digest the pasta wa noth special the main cours wa ...  \n",
       "130  pretti dissappoint i actual never write review for the restaur but for thi one i just had to the reason we decid to check thi place out wa onli becaus of hi...  \n",
       "131  sorryi m afraid we were veri let down by thi restaur we were left stand at the door for 5 minut befor be seat we decid on the tast menu for land with wine a...  "
      ]
     },
     "execution_count": 26,
     "metadata": {},
     "output_type": "execute_result"
    }
   ],
   "source": [
    "df['CleanedReview'] = df['Review'].apply(clean_text2)\n",
    "df[['Sentiment','Label','Review','CleanedReview']].iloc[128:132]"
   ]
  },
  {
   "cell_type": "code",
   "execution_count": 28,
   "metadata": {},
   "outputs": [],
   "source": [
    "# Select the necessary columns\n",
    "df = df[[\"Sentiment\", \"Label\",\"CleanedReview\"]]\n",
    "\n",
    "# Save the DataFrame to a CSV file\n",
    "df.to_csv('./data/CleanedReviews.csv', index=False)"
   ]
  },
  {
   "cell_type": "code",
   "execution_count": 30,
   "metadata": {},
   "outputs": [
    {
     "data": {
      "text/html": [
       "<div>\n",
       "<style scoped>\n",
       "    .dataframe tbody tr th:only-of-type {\n",
       "        vertical-align: middle;\n",
       "    }\n",
       "\n",
       "    .dataframe tbody tr th {\n",
       "        vertical-align: top;\n",
       "    }\n",
       "\n",
       "    .dataframe thead th {\n",
       "        text-align: right;\n",
       "    }\n",
       "</style>\n",
       "<table border=\"1\" class=\"dataframe\">\n",
       "  <thead>\n",
       "    <tr style=\"text-align: right;\">\n",
       "      <th></th>\n",
       "      <th>Sentiment</th>\n",
       "      <th>Label</th>\n",
       "      <th>CleanedReview</th>\n",
       "    </tr>\n",
       "  </thead>\n",
       "  <tbody>\n",
       "    <tr>\n",
       "      <th>0</th>\n",
       "      <td>Negative</td>\n",
       "      <td>0</td>\n",
       "      <td>rude managerth manag becam agress when i said the carbonara wa not good she wa rude it wa a veri bad experi the worst in rome in mani year</td>\n",
       "    </tr>\n",
       "    <tr>\n",
       "      <th>1</th>\n",
       "      <td>Negative</td>\n",
       "      <td>0</td>\n",
       "      <td>a big disappointmenti order a beef fillet ask to be done medium i got it well done cook and veri dri when i told them they took the steak and after 20 minut...</td>\n",
       "    </tr>\n",
       "  </tbody>\n",
       "</table>\n",
       "</div>"
      ],
      "text/plain": [
       "  Sentiment  Label  \\\n",
       "0  Negative      0   \n",
       "1  Negative      0   \n",
       "\n",
       "                                                                                                                                                     CleanedReview  \n",
       "0                       rude managerth manag becam agress when i said the carbonara wa not good she wa rude it wa a veri bad experi the worst in rome in mani year  \n",
       "1  a big disappointmenti order a beef fillet ask to be done medium i got it well done cook and veri dri when i told them they took the steak and after 20 minut...  "
      ]
     },
     "execution_count": 30,
     "metadata": {},
     "output_type": "execute_result"
    }
   ],
   "source": [
    "# Load the CSV file into a DataFrame\n",
    "df = pd.read_csv('./data/CleanedReviews.csv')\n",
    "df.head(2)"
   ]
  },
  {
   "cell_type": "markdown",
   "metadata": {},
   "source": [
    "## Vectorizer tf-idf"
   ]
  },
  {
   "cell_type": "code",
   "execution_count": 32,
   "metadata": {},
   "outputs": [],
   "source": [
    "cv = TfidfVectorizer(lowercase=True, preprocessor=clean_text, ngram_range=(1, 3), tokenizer=tokenize)\n",
    "\n",
    "text_counts = cv.fit_transform(df['CleanedReview'].values.astype('U'))"
   ]
  },
  {
   "cell_type": "markdown",
   "metadata": {},
   "source": [
    "## Split into training and testing data"
   ]
  },
  {
   "cell_type": "code",
   "execution_count": 37,
   "metadata": {},
   "outputs": [],
   "source": [
    "x_train,x_test,y_train,y_test =train_test_split(text_counts, df['Label'],stratify=df['Label'],random_state=42,test_size=0.3)"
   ]
  },
  {
   "cell_type": "markdown",
   "metadata": {},
   "source": [
    "## Evaluate Models"
   ]
  },
  {
   "cell_type": "code",
   "execution_count": 39,
   "metadata": {},
   "outputs": [],
   "source": [
    "# Performance evaluation function\n",
    "def performance_evaluation(y_test, y_pred, df):\n",
    "    # Classification report\n",
    "    class_report = classification_report(y_test, y_pred)\n",
    "    print(class_report)\n",
    "    \n",
    "    # Confusion matrix    \n",
    "    conf_matrix = confusion_matrix(y_test, y_pred)\n",
    "    print(conf_matrix)\n",
    "    print(\"\")\n",
    "    \n",
    "    # Normalized Confusion Matrix\n",
    "    nconf_matrix = np.round(conf_matrix / conf_matrix.sum(axis=1)[:, np.newaxis], 1)\n",
    "    print(nconf_matrix)    \n",
    "\n",
    "    # Heatmap images    \n",
    "    le = LabelEncoder()\n",
    "    le.fit(df['Label'])\n",
    "    class_labels = le.classes_\n",
    "    \n",
    "    fig, (ax1, ax2) = plt.subplots(1, 2, figsize=(6, 3))\n",
    "    sns.heatmap(conf_matrix, annot=True, cmap=plt.cm.Blues, fmt=\"d\", xticklabels=class_labels, yticklabels=class_labels, ax=ax1)\n",
    "    ax1.set_xlabel(\"Predicted labels\")\n",
    "    ax1.set_ylabel(\"True labels\")\n",
    "    ax1.set_title(\"Confusion Matrix\")\n",
    "    sns.heatmap(nconf_matrix, annot=True, cmap=plt.cm.Greens, fmt=\".2f\", xticklabels=class_labels, yticklabels=class_labels, ax=ax2)\n",
    "    ax2.set_xlabel(\"Predicted labels\")\n",
    "    ax2.set_ylabel(\"True labels\")\n",
    "    ax2.set_title(\"Normalized\")\n",
    "    \n",
    "    # Add some space between the subplots\n",
    "    plt.subplots_adjust(wspace=1)\n",
    "\n",
    "    # Set the aspect ratio to \"equal\"\n",
    "    ax1.set_aspect(\"equal\")\n",
    "    ax2.set_aspect(\"equal\")\n",
    "    \n",
    "    plt.show()"
   ]
  },
  {
   "cell_type": "markdown",
   "metadata": {},
   "source": [
    "## Logistic regression Classifier"
   ]
  },
  {
   "cell_type": "code",
   "execution_count": 41,
   "metadata": {},
   "outputs": [
    {
     "data": {
      "text/plain": [
       "0.8226164079822617"
      ]
     },
     "execution_count": 41,
     "metadata": {},
     "output_type": "execute_result"
    }
   ],
   "source": [
    "# Logistic Regression\n",
    "clf = LogisticRegression(C=0.2)\n",
    "clf.fit(x_train,y_train)\n",
    "y_pred=clf.predict(x_test)\n",
    "metrics.accuracy_score(y_test, y_pred)"
   ]
  },
  {
   "cell_type": "markdown",
   "metadata": {},
   "source": [
    "## Logistic regression + L1 Regulation + Cross Validation"
   ]
  },
  {
   "cell_type": "code",
   "execution_count": 44,
   "metadata": {},
   "outputs": [
    {
     "name": "stdout",
     "output_type": "stream",
     "text": [
      "Cross Validation Scores:  [0.82464455 0.82380952 0.82380952 0.82380952 0.82380952]\n",
      "Average Cross Validation Score:  0.8239765290002256\n",
      "Accuracy with L1 regularization and cross validation:  0.8226164079822617\n"
     ]
    }
   ],
   "source": [
    "clf = LogisticRegression(penalty='l1', solver = 'saga', C=0.2)\n",
    "scores = cross_val_score(clf, x_train, y_train, cv=5)\n",
    "print(\"Cross Validation Scores: \", scores)\n",
    "print(\"Average Cross Validation Score: \", np.mean(scores))\n",
    "\n",
    "clf.fit(x_train,y_train)\n",
    "y_pred=clf.predict(x_test)\n",
    "print(\"Accuracy with L1 regularization and cross validation: \", metrics.accuracy_score(y_test, y_pred))"
   ]
  },
  {
   "cell_type": "markdown",
   "metadata": {},
   "source": [
    "## Logistic regression + L2 Regulation + Cross Validation"
   ]
  },
  {
   "cell_type": "code",
   "execution_count": 47,
   "metadata": {},
   "outputs": [
    {
     "name": "stdout",
     "output_type": "stream",
     "text": [
      "Cross Validation Scores:  [0.82464455 0.82380952 0.82380952 0.82380952 0.82380952]\n",
      "Average Cross Validation Score:  0.8239765290002256\n",
      "Accuracy with L2 regularization and cross validation:  0.8226164079822617\n"
     ]
    }
   ],
   "source": [
    "clf = LogisticRegression(penalty='l2', solver = 'lbfgs', C=0.3)\n",
    "scores = cross_val_score(clf, x_train, y_train, cv=5)\n",
    "print(\"Cross Validation Scores: \", scores)\n",
    "print(\"Average Cross Validation Score: \", np.mean(scores))\n",
    "\n",
    "clf.fit(x_train,y_train)\n",
    "y_pred=clf.predict(x_test)\n",
    "print(\"Accuracy with L2 regularization and cross validation: \", metrics.accuracy_score(y_test, y_pred))"
   ]
  },
  {
   "cell_type": "code",
   "execution_count": 49,
   "metadata": {},
   "outputs": [
    {
     "name": "stdout",
     "output_type": "stream",
     "text": [
      "Models saved\n"
     ]
    }
   ],
   "source": [
    "#SAVE MODEL\n",
    "def train_models():\n",
    "    file = open('./data/vectorizer.pkl','wb')\n",
    "    joblib.dump(cv, file)\n",
    "    file.close()\n",
    "\n",
    "    file = open('./data/model.pkl','wb')\n",
    "    joblib.dump(clf, file)\n",
    "    file.close()\n",
    "    \n",
    "    print(\"Models saved\")\n",
    "    \n",
    "train_models()"
   ]
  },
  {
   "cell_type": "markdown",
   "metadata": {},
   "source": [
    "## Comparing accuracy of train and test data to know whether the model is overfitting or underfitting"
   ]
  },
  {
   "cell_type": "code",
   "execution_count": 51,
   "metadata": {},
   "outputs": [
    {
     "name": "stdout",
     "output_type": "stream",
     "text": [
      "Train score for iteration 1: 0.8239771646051379\n",
      "Test score for iteration 1: 0.8226164079822617\n",
      "Train score for iteration 2: 0.8239771646051379\n",
      "Test score for iteration 2: 0.8226164079822617\n",
      "Train score for iteration 3: 0.8239771646051379\n",
      "Test score for iteration 3: 0.8226164079822617\n",
      "Train score for iteration 4: 0.8239771646051379\n",
      "Test score for iteration 4: 0.8226164079822617\n",
      "Train score for iteration 5: 0.8239771646051379\n",
      "Test score for iteration 5: 0.8226164079822617\n"
     ]
    },
    {
     "data": {
      "image/png": "[encoded data removed]",
      "text/plain": [
       "<Figure size 300x300 with 1 Axes>"
      ]
     },
     "metadata": {},
     "output_type": "display_data"
    }
   ],
   "source": [
    "train_scores = []\n",
    "test_scores = []\n",
    "\n",
    "# Compare accuracy scores for each iteration\n",
    "for i in range(1, 6):\n",
    "    clf.fit(x_train, y_train)\n",
    "    train_score = clf.score(x_train, y_train)\n",
    "    test_score = clf.score(x_test, y_test)\n",
    "    train_scores.append(train_score)\n",
    "    test_scores.append(test_score)\n",
    "    print(f\"Train score for iteration {i}: {train_score}\")\n",
    "    print(f\"Test score for iteration {i}: {test_score}\")\n",
    "\n",
    "fig, ax = plt.subplots(figsize=(3, 3))\n",
    "ax.plot(range(1, 6), train_scores, label='Train')\n",
    "ax.plot(range(1, 6), test_scores, label='Test')\n",
    "ax.set_xlabel('Iteration')\n",
    "ax.set_ylabel('Accuracy')\n",
    "ax.legend()\n",
    "plt.show()"
   ]
  },
  {
   "cell_type": "code",
   "execution_count": 53,
   "metadata": {},
   "outputs": [],
   "source": [
    "#LOAD MODEL\n",
    "\n",
    "def load_models():         \n",
    "    # Load the vectorizer.\n",
    "    file = open('./data/vectorizer.pkl', 'rb')\n",
    "    vectorizer = joblib.load(file)\n",
    "    file.close()\n",
    "    \n",
    "    # Load the LR Model.\n",
    "    file = open('./data/model.pkl', 'rb')\n",
    "    model = joblib.load(file)\n",
    "    file.close()\n",
    "    \n",
    "    return vectorizer, model\n",
    "\n",
    "vectorizer, model = load_models()"
   ]
  },
  {
   "cell_type": "code",
   "execution_count": 62,
   "metadata": {},
   "outputs": [
    {
     "name": "stdout",
     "output_type": "stream",
     "text": [
      "Enter your message: The food tastes bad\n"
     ]
    },
    {
     "name": "stdout",
     "output_type": "stream",
     "text": [
      "Prediction: Positive\n"
     ]
    }
   ],
   "source": [
    "# Make predictions\n",
    "user_input = input(\"Enter your message:\")\n",
    "clean_input = clean_text(user_input)\n",
    "input_counts = vectorizer.transform([clean_input])\n",
    "prediction = model.predict(input_counts)\n",
    "print('Prediction:', 'Positive' if prediction == 1 else 'Negative')"
   ]
  },
  {
   "cell_type": "markdown",
   "metadata": {},
   "source": [
    "##### The model predicted wrongly"
   ]
  },
  {
   "cell_type": "code",
   "execution_count": 66,
   "metadata": {},
   "outputs": [
    {
     "data": {
      "image/png": "[encoded data removed]",
      "text/plain": [
       "<Figure size 300x300 with 1 Axes>"
      ]
     },
     "metadata": {},
     "output_type": "display_data"
    }
   ],
   "source": [
    "df_Label_counts = df['Label'].value_counts()\n",
    "plt.figure(figsize=(3, 3))\n",
    "plt.pie(df_Label_counts, labels=df_Label_counts.index, autopct='%1.1f%%', colors=['#66c2a5', '#fc8d62', '#8da0cb'])\n",
    "plt.title('Distribution of Sentiments', fontsize=16)\n",
    "plt.show()"
   ]
  },
  {
   "cell_type": "code",
   "execution_count": 68,
   "metadata": {},
   "outputs": [
    {
     "name": "stdout",
     "output_type": "stream",
     "text": [
      "              precision    recall  f1-score   support\n",
      "\n",
      "           0       0.00      0.00      0.00        80\n",
      "           1       0.82      1.00      0.90       371\n",
      "\n",
      "    accuracy                           0.82       451\n",
      "   macro avg       0.41      0.50      0.45       451\n",
      "weighted avg       0.68      0.82      0.74       451\n",
      "\n",
      "[[  0  80]\n",
      " [  0 371]]\n",
      "\n",
      "[[0. 1.]\n",
      " [0. 1.]]\n"
     ]
    },
    {
     "data": {
      "image/png": "[encoded data removed]",
      "text/plain": [
       "<Figure size 600x300 with 4 Axes>"
      ]
     },
     "metadata": {},
     "output_type": "display_data"
    }
   ],
   "source": [
    "# Evaluate the model performance\n",
    "performance_evaluation(y_test, y_pred, df)"
   ]
  },
  {
   "cell_type": "markdown",
   "metadata": {},
   "source": [
    "## Interpretation:\n",
    "\n",
    "100% of class 0  were incorrectly classified as class 1, and 100% of class 1 instances were correctly classified as class 1 (1.0).\n",
    "\n",
    "The model performs well for class 1 (Positive) with high precision, recall, and F1-score.\n",
    "\n",
    "The model fails to identify any instances of class 0 (Negative), resulting in a precision, recall, and F1-score of 0 for this class.\n",
    "\n",
    "The overall accuracy is driven by the high performance on class 1, but the performance on class 0 is poor.\n",
    "\n",
    "**This suggests a significant class imbalance problem, where the model has likely learned to predict the majority class (class 1) and ignore minority class (class 0)**"
   ]
  },
  {
   "cell_type": "markdown",
   "metadata": {},
   "source": [
    "## Balancing with SMOTE (Synthetic Minority Over-sampling Technique) "
   ]
  },
  {
   "cell_type": "code",
   "execution_count": 100,
   "metadata": {},
   "outputs": [],
   "source": [
    "# Apply SMOTE to balance the dataset\n",
    "smote = SMOTE(random_state=42)\n",
    "x_balanced, y_balanced = smote.fit_resample(text_counts, df['Label'])"
   ]
  },
  {
   "cell_type": "code",
   "execution_count": 102,
   "metadata": {},
   "outputs": [],
   "source": [
    "# Split the balanced data into training and testing sets\n",
    "x_train, x_test, y_train, y_test = train_test_split(\n",
    "    x_balanced, y_balanced, stratify=y_balanced, random_state=42, test_size=0.3)"
   ]
  },
  {
   "cell_type": "code",
   "execution_count": 104,
   "metadata": {},
   "outputs": [
    {
     "name": "stdout",
     "output_type": "stream",
     "text": [
      "Cross Validation Scores:  [0.93079585 0.88235294 0.92041522 0.90972222 0.92361111 0.92013889]\n",
      "Average Cross Validation Score:  0.9145060393438422\n",
      "Accuracy with L2 regularization and cross validation:  0.9259757738896366\n"
     ]
    }
   ],
   "source": [
    "# Train a logistic regression classifier\n",
    "balanced_clf = LogisticRegression(penalty='l2', solver='lbfgs', C=0.3)\n",
    "scores = cross_val_score(balanced_clf, x_train, y_train, cv=6)\n",
    "print(\"Cross Validation Scores: \", scores)\n",
    "print(\"Average Cross Validation Score: \", np.mean(scores))\n",
    "\n",
    "balanced_clf.fit(x_train, y_train)\n",
    "y_pred = balanced_clf.predict(x_test)\n",
    "print(\"Accuracy with L2 regularization and cross validation: \", metrics.accuracy_score(y_test, y_pred))"
   ]
  },
  {
   "cell_type": "markdown",
   "metadata": {},
   "source": [
    "##### The accuracy improved after oversampling balancing with SMOTE"
   ]
  },
  {
   "cell_type": "code",
   "execution_count": 107,
   "metadata": {},
   "outputs": [],
   "source": [
    "# Performance evaluation function\n",
    "def performance_evaluation(y_test, y_pred):\n",
    "    # Classification report\n",
    "    class_report = classification_report(y_test, y_pred)\n",
    "    print(class_report)\n",
    "    \n",
    "    # Confusion matrix    \n",
    "    conf_matrix = confusion_matrix(y_test, y_pred)\n",
    "    print(conf_matrix)\n",
    "    print(\"\")\n",
    "    \n",
    "    # Normalized Confusion Matrix\n",
    "    nconf_matrix = np.round(conf_matrix / conf_matrix.sum(axis=1)[:, np.newaxis], 1)\n",
    "    print(nconf_matrix)    \n",
    "\n",
    "    # Heatmap images    \n",
    "    le = LabelEncoder()\n",
    "    le.fit(df['Label'])\n",
    "    class_labels = le.classes_\n",
    "    \n",
    "    fig, (ax1, ax2) = plt.subplots(1, 2, figsize=(6, 3))\n",
    "    sns.heatmap(conf_matrix, annot=True, cmap=plt.cm.Blues, fmt=\"d\", xticklabels=class_labels, yticklabels=class_labels, ax=ax1)\n",
    "    ax1.set_xlabel(\"Predicted labels\")\n",
    "    ax1.set_ylabel(\"True labels\")\n",
    "    ax1.set_title(\"Confusion Matrix\")\n",
    "    sns.heatmap(nconf_matrix, annot=True, cmap=plt.cm.Greens, fmt=\".2f\", xticklabels=class_labels, yticklabels=class_labels, ax=ax2)\n",
    "    ax2.set_xlabel(\"Predicted labels\")\n",
    "    ax2.set_ylabel(\"True labels\")\n",
    "    ax2.set_title(\"Normalized\")\n",
    "    \n",
    "    # Add some space between the subplots\n",
    "    plt.subplots_adjust(wspace=1)\n",
    "\n",
    "    # Set the aspect ratio to \"equal\"\n",
    "    ax1.set_aspect(\"equal\")\n",
    "    ax2.set_aspect(\"equal\")\n",
    "    \n",
    "    plt.show()"
   ]
  },
  {
   "cell_type": "code",
   "execution_count": 109,
   "metadata": {},
   "outputs": [
    {
     "name": "stdout",
     "output_type": "stream",
     "text": [
      "              precision    recall  f1-score   support\n",
      "\n",
      "           0       0.99      0.86      0.92       372\n",
      "           1       0.87      0.99      0.93       371\n",
      "\n",
      "    accuracy                           0.93       743\n",
      "   macro avg       0.93      0.93      0.93       743\n",
      "weighted avg       0.93      0.93      0.93       743\n",
      "\n",
      "[[319  53]\n",
      " [  2 369]]\n",
      "\n",
      "[[0.9 0.1]\n",
      " [0.  1. ]]\n"
     ]
    },
    {
     "data": {
      "image/png": "[encoded data removed]",
      "text/plain": [
       "<Figure size 600x300 with 4 Axes>"
      ]
     },
     "metadata": {},
     "output_type": "display_data"
    }
   ],
   "source": [
    "# Evaluate the model performance\n",
    "performance_evaluation(y_test, y_pred)"
   ]
  },
  {
   "cell_type": "code",
   "execution_count": 125,
   "metadata": {},
   "outputs": [
    {
     "name": "stdout",
     "output_type": "stream",
     "text": [
      "balance_clf_models and balance_clf_vectorizer saved...\n"
     ]
    }
   ],
   "source": [
    "# Save the model and vectorizer\n",
    "with open('./data/balance_clf_model.pkl', 'wb') as file:\n",
    "    pickle.dump(balanced_clf, file)\n",
    "with open('./data/balance_clf_vectorizer.pkl', 'wb') as file:\n",
    "    pickle.dump(cv, file)\n",
    "\n",
    "def load_balance_clf_models():\n",
    "    with open('./data/balance_clf_model.pkl', 'rb') as file:\n",
    "        balance_clf_model = pickle.load(file)\n",
    "    with open('./data/balance_clf_vectorizer.pkl', 'rb') as file:\n",
    "        balance_clf_vectorizer = pickle.load(file)\n",
    "    return balance_clf_model, balance_clf_vectorizer    \n",
    "    \n",
    "print(\"balance_clf_models and balance_clf_vectorizer saved...\")"
   ]
  },
  {
   "cell_type": "code",
   "execution_count": 127,
   "metadata": {},
   "outputs": [],
   "source": [
    "# Load the model and vectorizer\n",
    "balanced_clf_model, balanced_clf_vectorizer = load_balance_clf_models()"
   ]
  },
  {
   "cell_type": "code",
   "execution_count": 141,
   "metadata": {},
   "outputs": [],
   "source": [
    "# Function to predict user input\n",
    "def predict2():\n",
    "    user_input = input(\"Enter your message: \")\n",
    "    clean_input = clean_text(user_input)\n",
    "    input_counts = balanced_clf_vectorizer.transform([clean_input])\n",
    "    \n",
    "    prediction = balanced_clf_model.predict(input_counts)\n",
    "    print('Prediction:', 'Positive' if prediction == 1 else 'Negative')"
   ]
  },
  {
   "cell_type": "code",
   "execution_count": 143,
   "metadata": {},
   "outputs": [
    {
     "name": "stdout",
     "output_type": "stream",
     "text": [
      "Enter your message:  The food tastes bad\n"
     ]
    },
    {
     "name": "stdout",
     "output_type": "stream",
     "text": [
      "Prediction: Positive\n"
     ]
    }
   ],
   "source": [
    "predict2()"
   ]
  },
  {
   "cell_type": "code",
   "execution_count": 145,
   "metadata": {},
   "outputs": [
    {
     "name": "stdout",
     "output_type": "stream",
     "text": [
      "Enter your message:  The manager was rude\n"
     ]
    },
    {
     "name": "stdout",
     "output_type": "stream",
     "text": [
      "Prediction: Positive\n"
     ]
    }
   ],
   "source": [
    "predict2()"
   ]
  },
  {
   "cell_type": "markdown",
   "metadata": {},
   "source": [
    "##### The model continues to make incorrect predictions on new data, although all performance evaluations indicating good results."
   ]
  },
  {
   "cell_type": "code",
   "execution_count": null,
   "metadata": {},
   "outputs": [],
   "source": []
  },
  {
   "cell_type": "markdown",
   "metadata": {},
   "source": [
    "### Get embeddings from the dataset using OpenAI's 'text-embedding-3-small' model\n"
   ]
  },
  {
   "cell_type": "code",
   "execution_count": 111,
   "metadata": {},
   "outputs": [],
   "source": [
    "!pip install -qqq --upgrade openai\n",
    "!pip install -qqq datasets tiktoken \n",
    "!pip install -qqq utils\n",
    "!pip install -qqq scikit-learn"
   ]
  },
  {
   "cell_type": "code",
   "execution_count": 149,
   "metadata": {},
   "outputs": [],
   "source": [
    "import openai\n",
    "from openai import OpenAI\n",
    "import tiktoken\n",
    "from collections import defaultdict"
   ]
  },
  {
   "cell_type": "code",
   "execution_count": 151,
   "metadata": {},
   "outputs": [],
   "source": [
    "embedding_model = \"text-embedding-3-small\"\n",
    "embedding_encoding = \"cl100k_base\"\n",
    "max_tokens = 8000  # the maximum for text-embedding-3-small is 8191"
   ]
  },
  {
   "cell_type": "code",
   "execution_count": 153,
   "metadata": {},
   "outputs": [
    {
     "data": {
      "text/plain": [
       "1502"
      ]
     },
     "execution_count": 153,
     "metadata": {},
     "output_type": "execute_result"
    }
   ],
   "source": [
    "len(df)"
   ]
  },
  {
   "cell_type": "code",
   "execution_count": 155,
   "metadata": {},
   "outputs": [
    {
     "data": {
      "text/html": [
       "<div>\n",
       "<style scoped>\n",
       "    .dataframe tbody tr th:only-of-type {\n",
       "        vertical-align: middle;\n",
       "    }\n",
       "\n",
       "    .dataframe tbody tr th {\n",
       "        vertical-align: top;\n",
       "    }\n",
       "\n",
       "    .dataframe thead th {\n",
       "        text-align: right;\n",
       "    }\n",
       "</style>\n",
       "<table border=\"1\" class=\"dataframe\">\n",
       "  <thead>\n",
       "    <tr style=\"text-align: right;\">\n",
       "      <th></th>\n",
       "      <th>Sentiment</th>\n",
       "      <th>Label</th>\n",
       "      <th>CleanedReview</th>\n",
       "    </tr>\n",
       "  </thead>\n",
       "  <tbody>\n",
       "    <tr>\n",
       "      <th>0</th>\n",
       "      <td>Negative</td>\n",
       "      <td>0</td>\n",
       "      <td>rude managerth manag becam agress when i said the carbonara wa not good she wa rude it wa a veri bad experi the worst in rome in mani year</td>\n",
       "    </tr>\n",
       "    <tr>\n",
       "      <th>1</th>\n",
       "      <td>Negative</td>\n",
       "      <td>0</td>\n",
       "      <td>a big disappointmenti order a beef fillet ask to be done medium i got it well done cook and veri dri when i told them they took the steak and after 20 minut...</td>\n",
       "    </tr>\n",
       "  </tbody>\n",
       "</table>\n",
       "</div>"
      ],
      "text/plain": [
       "  Sentiment  Label  \\\n",
       "0  Negative      0   \n",
       "1  Negative      0   \n",
       "\n",
       "                                                                                                                                                     CleanedReview  \n",
       "0                       rude managerth manag becam agress when i said the carbonara wa not good she wa rude it wa a veri bad experi the worst in rome in mani year  \n",
       "1  a big disappointmenti order a beef fillet ask to be done medium i got it well done cook and veri dri when i told them they took the steak and after 20 minut...  "
      ]
     },
     "execution_count": 155,
     "metadata": {},
     "output_type": "execute_result"
    }
   ],
   "source": [
    "df.head(2)"
   ]
  },
  {
   "cell_type": "code",
   "execution_count": 157,
   "metadata": {},
   "outputs": [
    {
     "data": {
      "text/plain": [
       "1453"
      ]
     },
     "execution_count": 157,
     "metadata": {},
     "output_type": "execute_result"
    }
   ],
   "source": [
    "top_n = 1453\n",
    "encoding = tiktoken.get_encoding(embedding_encoding)\n",
    "\n",
    "# omit reviews that are too long to embed\n",
    "df[\"n_tokens\"] = df.CleanedReview.apply(lambda x: len(encoding.encode(x)))\n",
    "df = df[df.n_tokens <= max_tokens].tail(top_n)\n",
    "len(df)"
   ]
  },
  {
   "cell_type": "code",
   "execution_count": 159,
   "metadata": {},
   "outputs": [
    {
     "data": {
      "text/html": [
       "<div>\n",
       "<style scoped>\n",
       "    .dataframe tbody tr th:only-of-type {\n",
       "        vertical-align: middle;\n",
       "    }\n",
       "\n",
       "    .dataframe tbody tr th {\n",
       "        vertical-align: top;\n",
       "    }\n",
       "\n",
       "    .dataframe thead th {\n",
       "        text-align: right;\n",
       "    }\n",
       "</style>\n",
       "<table border=\"1\" class=\"dataframe\">\n",
       "  <thead>\n",
       "    <tr style=\"text-align: right;\">\n",
       "      <th></th>\n",
       "      <th>Sentiment</th>\n",
       "      <th>Label</th>\n",
       "      <th>CleanedReview</th>\n",
       "      <th>n_tokens</th>\n",
       "    </tr>\n",
       "  </thead>\n",
       "  <tbody>\n",
       "    <tr>\n",
       "      <th>49</th>\n",
       "      <td>Negative</td>\n",
       "      <td>0</td>\n",
       "      <td>disappointedit s our last night in rome found thi highli rate restaur from trip advis had high expect for the last fine dine in rome the gaja wine wa excel ...</td>\n",
       "      <td>105</td>\n",
       "    </tr>\n",
       "    <tr>\n",
       "      <th>50</th>\n",
       "      <td>Negative</td>\n",
       "      <td>0</td>\n",
       "      <td>slow slow slow thi wa our 3rd visit to ad hoc and it will be the last one too we had book a tabl at 8 00 p m a month in advanc and request a tabl in the roo...</td>\n",
       "      <td>378</td>\n",
       "    </tr>\n",
       "  </tbody>\n",
       "</table>\n",
       "</div>"
      ],
      "text/plain": [
       "   Sentiment  Label  \\\n",
       "49  Negative      0   \n",
       "50  Negative      0   \n",
       "\n",
       "                                                                                                                                                      CleanedReview  \\\n",
       "49  disappointedit s our last night in rome found thi highli rate restaur from trip advis had high expect for the last fine dine in rome the gaja wine wa excel ...   \n",
       "50  slow slow slow thi wa our 3rd visit to ad hoc and it will be the last one too we had book a tabl at 8 00 p m a month in advanc and request a tabl in the roo...   \n",
       "\n",
       "    n_tokens  \n",
       "49       105  \n",
       "50       378  "
      ]
     },
     "execution_count": 159,
     "metadata": {},
     "output_type": "execute_result"
    }
   ],
   "source": [
    "df.head(2)"
   ]
  },
  {
   "cell_type": "code",
   "execution_count": 167,
   "metadata": {},
   "outputs": [],
   "source": [
    "openai.api_key = 'sk-xxxxxxxxxxxxxxxxxxxxxxxxxxxxxxxxxxxxxxxxxxxxxxx'\n",
    "# Create an OpenAI client\n",
    "client = openai"
   ]
  },
  {
   "cell_type": "code",
   "execution_count": 171,
   "metadata": {},
   "outputs": [],
   "source": [
    "# Function to get embeddings from OpenAI\n",
    "def get_embedding(text, model = embedding_model):\n",
    "    text = text.replace(\"\\n\", \" \")\n",
    "    return client.embeddings.create(input=[text], model=model).data[0].embedding\n",
    "\n",
    "# Apply the embedding function to the 'combined' column\n",
    "df['embedding'] = df['CleanedReview'].apply(lambda x: get_embedding(x, model = embedding_model))\n",
    "df.to_csv('./data/embedded_CleanedReviews.csv', index=False)"
   ]
  },
  {
   "cell_type": "code",
   "execution_count": 137,
   "metadata": {},
   "outputs": [],
   "source": [
    "a = get_embedding(\"hi\", model = embedding_model)"
   ]
  },
  {
   "cell_type": "markdown",
   "metadata": {},
   "source": [
    "## To load the data from a saved file"
   ]
  },
  {
   "cell_type": "code",
   "execution_count": 173,
   "metadata": {},
   "outputs": [
    {
     "data": {
      "text/html": [
       "<div>\n",
       "<style scoped>\n",
       "    .dataframe tbody tr th:only-of-type {\n",
       "        vertical-align: middle;\n",
       "    }\n",
       "\n",
       "    .dataframe tbody tr th {\n",
       "        vertical-align: top;\n",
       "    }\n",
       "\n",
       "    .dataframe thead th {\n",
       "        text-align: right;\n",
       "    }\n",
       "</style>\n",
       "<table border=\"1\" class=\"dataframe\">\n",
       "  <thead>\n",
       "    <tr style=\"text-align: right;\">\n",
       "      <th></th>\n",
       "      <th>Sentiment</th>\n",
       "      <th>Label</th>\n",
       "      <th>CleanedReview</th>\n",
       "      <th>n_tokens</th>\n",
       "      <th>embedding</th>\n",
       "    </tr>\n",
       "  </thead>\n",
       "  <tbody>\n",
       "    <tr>\n",
       "      <th>0</th>\n",
       "      <td>Negative</td>\n",
       "      <td>0</td>\n",
       "      <td>disappointedit s our last night in rome found thi highli rate restaur from trip advis had high expect for the last fine dine in rome the gaja wine wa excel ...</td>\n",
       "      <td>105</td>\n",
       "      <td>[-0.030016716569662094, 0.013711179606616497, -0.03178087994456291, -0.05671265721321106, -0.012426973320543766, -0.04431162774562836, -0.002394916256889701...</td>\n",
       "    </tr>\n",
       "    <tr>\n",
       "      <th>1</th>\n",
       "      <td>Negative</td>\n",
       "      <td>0</td>\n",
       "      <td>slow slow slow thi wa our 3rd visit to ad hoc and it will be the last one too we had book a tabl at 8 00 p m a month in advanc and request a tabl in the roo...</td>\n",
       "      <td>378</td>\n",
       "      <td>[-0.043122150003910065, 0.005421386566013098, -0.026180317625403404, -0.06472471356391907, -0.01459072157740593, -0.02550264447927475, -0.030592110008001328...</td>\n",
       "    </tr>\n",
       "  </tbody>\n",
       "</table>\n",
       "</div>"
      ],
      "text/plain": [
       "  Sentiment  Label  \\\n",
       "0  Negative      0   \n",
       "1  Negative      0   \n",
       "\n",
       "                                                                                                                                                     CleanedReview  \\\n",
       "0  disappointedit s our last night in rome found thi highli rate restaur from trip advis had high expect for the last fine dine in rome the gaja wine wa excel ...   \n",
       "1  slow slow slow thi wa our 3rd visit to ad hoc and it will be the last one too we had book a tabl at 8 00 p m a month in advanc and request a tabl in the roo...   \n",
       "\n",
       "   n_tokens  \\\n",
       "0       105   \n",
       "1       378   \n",
       "\n",
       "                                                                                                                                                         embedding  \n",
       "0  [-0.030016716569662094, 0.013711179606616497, -0.03178087994456291, -0.05671265721321106, -0.012426973320543766, -0.04431162774562836, -0.002394916256889701...  \n",
       "1  [-0.043122150003910065, 0.005421386566013098, -0.026180317625403404, -0.06472471356391907, -0.01459072157740593, -0.02550264447927475, -0.030592110008001328...  "
      ]
     },
     "execution_count": 173,
     "metadata": {},
     "output_type": "execute_result"
    }
   ],
   "source": [
    "df = pd.read_csv('./data/embedded_CleanedReviews.csv')\n",
    "df.head(2)"
   ]
  },
  {
   "cell_type": "code",
   "execution_count": 175,
   "metadata": {},
   "outputs": [
    {
     "data": {
      "text/plain": [
       "array([-0.03001672,  0.01371118, -0.03178088, ...,  0.01614988,\n",
       "        0.01451543, -0.02635867])"
      ]
     },
     "execution_count": 175,
     "metadata": {},
     "output_type": "execute_result"
    }
   ],
   "source": [
    "df['embedding'] = df.embedding.apply(eval).apply(np.array)\n",
    "df['embedding'][0]"
   ]
  },
  {
   "cell_type": "markdown",
   "metadata": {},
   "source": [
    "## Apply SMOTE to balance the Embedded dataset"
   ]
  },
  {
   "cell_type": "code",
   "execution_count": 178,
   "metadata": {},
   "outputs": [],
   "source": [
    "x = np.vstack(df['embedding'].values)\n",
    "y = df['Label'].values"
   ]
  },
  {
   "cell_type": "markdown",
   "metadata": {},
   "source": [
    "## Prepare embedding data for training"
   ]
  },
  {
   "cell_type": "code",
   "execution_count": 181,
   "metadata": {},
   "outputs": [],
   "source": [
    "# Split the data into training and testing sets\n",
    "x_train, x_test, y_train, y_test = train_test_split(x, y, test_size=0.2, random_state=42)"
   ]
  },
  {
   "cell_type": "code",
   "execution_count": 183,
   "metadata": {},
   "outputs": [],
   "source": [
    "smote = SMOTE(random_state=42)\n",
    "x_train_balanced, y_train_balanced = smote.fit_resample(x_train, y_train)"
   ]
  },
  {
   "cell_type": "code",
   "execution_count": 185,
   "metadata": {},
   "outputs": [
    {
     "name": "stdout",
     "output_type": "stream",
     "text": [
      "Cross Validation Scores:  [0.93654822 0.97208122 0.94162437 0.94670051 0.96192893]\n",
      "Average Cross Validation Score:  0.9517766497461929\n",
      "Accuracy with L1 regularization and cross validation:  0.9484536082474226\n"
     ]
    }
   ],
   "source": [
    "clf_embed = LogisticRegression(penalty='l1', solver = 'saga', C=0.2)\n",
    "scores = cross_val_score(clf_embed, x_train_balanced, y_train_balanced, cv=5)\n",
    "print(\"Cross Validation Scores: \", scores)\n",
    "print(\"Average Cross Validation Score: \", np.mean(scores))\n",
    "\n",
    "clf_embed .fit(x_train_balanced, y_train_balanced)\n",
    "y_pred=clf_embed.predict(x_test)\n",
    "print(\"Accuracy with L1 regularization and cross validation: \", metrics.accuracy_score(y_test, y_pred))"
   ]
  },
  {
   "cell_type": "code",
   "execution_count": 186,
   "metadata": {},
   "outputs": [
    {
     "name": "stdout",
     "output_type": "stream",
     "text": [
      "Prediction: [0 1 0 1 0 1 1 0 1 0 1 1 1 1 1 1 1 1 1 1 1 1 1 1 1 1 1 1 1 1 1 1 1 1 0 1 1\n",
      " 1 0 1 1 1 1 0 1 1 1 1 1 1 0 1 1 1 0 1 0 1 1 1 1 1 1 1 1 0 1 1 1 1 1 0 1 0\n",
      " 1 1 1 0 0 1 0 1 1 1 1 1 1 1 1 1 1 1 1 0 1 1 1 1 1 0 1 0 0 1 1 1 1 1 1 1 1\n",
      " 1 1 1 0 1 1 1 1 1 1 1 1 1 1 1 1 1 0 1 1 1 1 1 1 1 0 1 1 1 1 0 1 1 1 1 1 1\n",
      " 0 1 1 1 1 1 1 1 1 0 1 1 1 1 1 1 1 1 1 1 0 1 1 1 1 1 1 1 1 1 1 1 0 1 1 0 1\n",
      " 1 1 0 1 1 1 1 1 1 1 0 0 1 1 1 1 1 1 1 0 1 1 1 1 1 0 0 1 1 1 1 1 1 1 1 1 1\n",
      " 1 1 1 0 0 1 0 1 1 1 1 1 1 1 1 1 1 1 1 0 1 1 1 1 0 1 1 1 1 1 1 1 1 1 1 1 1\n",
      " 1 1 0 1 1 0 1 1 1 1 1 1 1 1 1 1 1 1 1 1 1 1 1 1 1 1 1 0 1 1 1 1]\n"
     ]
    }
   ],
   "source": [
    "# Predict on the test set\n",
    "y_pred = clf_embed .predict(x_test)\n",
    "\n",
    "# Print the predictions\n",
    "print('Prediction:', y_pred)"
   ]
  },
  {
   "cell_type": "code",
   "execution_count": 189,
   "metadata": {},
   "outputs": [],
   "source": [
    "# Performance evaluation function\n",
    "def performance_evaluation(y_test, y_pred, df):\n",
    "    # Classification report\n",
    "    class_report = classification_report(y_test, y_pred)\n",
    "    print(class_report)\n",
    "    \n",
    "    # Confusion matrix    \n",
    "    conf_matrix = confusion_matrix(y_test, y_pred)\n",
    "    print(conf_matrix)\n",
    "    print(\"\")\n",
    "    \n",
    "    # Normalized Confusion Matrix\n",
    "    nconf_matrix = np.round(conf_matrix / conf_matrix.sum(axis=1)[:, np.newaxis], 1)\n",
    "    print(nconf_matrix)    \n",
    "\n",
    "    # Heatmap images    \n",
    "    le = LabelEncoder()\n",
    "    le.fit(df['Label'])\n",
    "    class_labels = le.classes_\n",
    "    \n",
    "    fig, (ax1, ax2) = plt.subplots(1, 2, figsize=(6, 3))\n",
    "    sns.heatmap(conf_matrix, annot=True, cmap=plt.cm.Blues, fmt=\"d\", xticklabels=class_labels, yticklabels=class_labels, ax=ax1)\n",
    "    ax1.set_xlabel(\"Predicted labels\")\n",
    "    ax1.set_ylabel(\"True labels\")\n",
    "    ax1.set_title(\"Confusion Matrix\")\n",
    "    sns.heatmap(nconf_matrix, annot=True, cmap=plt.cm.Greens, fmt=\".2f\", xticklabels=class_labels, yticklabels=class_labels, ax=ax2)\n",
    "    ax2.set_xlabel(\"Predicted labels\")\n",
    "    ax2.set_ylabel(\"True labels\")\n",
    "    ax2.set_title(\"Normalized\")\n",
    "    \n",
    "    # Add some space between the subplots\n",
    "    plt.subplots_adjust(wspace=1)\n",
    "\n",
    "    # Set the aspect ratio to \"equal\"\n",
    "    ax1.set_aspect(\"equal\")\n",
    "    ax2.set_aspect(\"equal\")\n",
    "    \n",
    "    plt.show()"
   ]
  },
  {
   "cell_type": "code",
   "execution_count": 191,
   "metadata": {},
   "outputs": [
    {
     "name": "stdout",
     "output_type": "stream",
     "text": [
      "              precision    recall  f1-score   support\n",
      "\n",
      "           0       0.77      0.87      0.82        39\n",
      "           1       0.98      0.96      0.97       252\n",
      "\n",
      "    accuracy                           0.95       291\n",
      "   macro avg       0.88      0.92      0.89       291\n",
      "weighted avg       0.95      0.95      0.95       291\n",
      "\n",
      "[[ 34   5]\n",
      " [ 10 242]]\n",
      "\n",
      "[[0.9 0.1]\n",
      " [0.  1. ]]\n"
     ]
    },
    {
     "data": {
      "image/png": "[encoded data removed]",
      "text/plain": [
       "<Figure size 600x300 with 4 Axes>"
      ]
     },
     "metadata": {},
     "output_type": "display_data"
    }
   ],
   "source": [
    "# Evaluate the model performance\n",
    "performance_evaluation(y_test, y_pred, df)"
   ]
  },
  {
   "cell_type": "markdown",
   "metadata": {},
   "source": [
    "## Save the model and vectorizer"
   ]
  },
  {
   "cell_type": "code",
   "execution_count": 198,
   "metadata": {},
   "outputs": [
    {
     "name": "stdout",
     "output_type": "stream",
     "text": [
      "Model Saved\n"
     ]
    }
   ],
   "source": [
    "with open('./data/clf_embed.pkl', 'wb') as file:\n",
    "    pickle.dump(clf_embed , file)\n",
    "\n",
    "# Save the embeddings and labels\n",
    "with open('./data/clf_embed_vectorizer.pkl', 'wb') as file:\n",
    "    pickle.dump((x_train_balanced, y_train_balanced), file)\n",
    "\n",
    "print(\"Model Saved\")"
   ]
  },
  {
   "cell_type": "markdown",
   "metadata": {},
   "source": [
    "## Load Models"
   ]
  },
  {
   "cell_type": "code",
   "execution_count": 201,
   "metadata": {},
   "outputs": [],
   "source": [
    "def load_clf_embed_models():\n",
    "    with open('./data/clf_embed.pkl', 'rb') as file:\n",
    "        clf_embed = pickle.load(file)\n",
    "    with open('./data/clf_embed_vectorizer.pkl', 'rb') as file:\n",
    "        x_train_balanced, y_train_balanced = pickle.load(file)\n",
    "    return clf_embed "
   ]
  },
  {
   "cell_type": "code",
   "execution_count": 203,
   "metadata": {},
   "outputs": [],
   "source": [
    "loaded_clf_embed_model = load_clf_embed_models()"
   ]
  },
  {
   "cell_type": "markdown",
   "metadata": {},
   "source": [
    "## Make predictions with embeddings"
   ]
  },
  {
   "cell_type": "code",
   "execution_count": 205,
   "metadata": {},
   "outputs": [],
   "source": [
    "# Function to predict user input\n",
    "def clf_embed_predict():\n",
    "    user_input = input(\"Enter your message: \")\n",
    "    clean_input = clean_text(user_input)\n",
    "    input_embedding = np.array(get_embedding(clean_input, model=embedding_model))\n",
    "    input_embedding = input_embedding.reshape(1, -1)  # Reshape for prediction\n",
    "    \n",
    "    prediction = loaded_clf_embed_model.predict(input_embedding)\n",
    "    print('Prediction:', 'Positive' if prediction == 1 else 'Negative')"
   ]
  },
  {
   "cell_type": "code",
   "execution_count": 207,
   "metadata": {},
   "outputs": [
    {
     "name": "stdout",
     "output_type": "stream",
     "text": [
      "Enter your message:  The manager was rude\n"
     ]
    },
    {
     "name": "stdout",
     "output_type": "stream",
     "text": [
      "Prediction: Negative\n"
     ]
    }
   ],
   "source": [
    "clf_embed_predict()"
   ]
  },
  {
   "cell_type": "code",
   "execution_count": 209,
   "metadata": {},
   "outputs": [
    {
     "name": "stdout",
     "output_type": "stream",
     "text": [
      "Enter your message:  The food was bad\n"
     ]
    },
    {
     "name": "stdout",
     "output_type": "stream",
     "text": [
      "Prediction: Negative\n"
     ]
    }
   ],
   "source": [
    "clf_embed_predict()"
   ]
  },
  {
   "cell_type": "code",
   "execution_count": 211,
   "metadata": {},
   "outputs": [
    {
     "name": "stdout",
     "output_type": "stream",
     "text": [
      "Enter your message:  The appetizer was delicious\n"
     ]
    },
    {
     "name": "stdout",
     "output_type": "stream",
     "text": [
      "Prediction: Positive\n"
     ]
    }
   ],
   "source": [
    "clf_embed_predict()"
   ]
  },
  {
   "cell_type": "code",
   "execution_count": 213,
   "metadata": {},
   "outputs": [
    {
     "name": "stdout",
     "output_type": "stream",
     "text": [
      "Enter your message:  The wine is super\n"
     ]
    },
    {
     "name": "stdout",
     "output_type": "stream",
     "text": [
      "Prediction: Positive\n"
     ]
    }
   ],
   "source": [
    "clf_embed_predict()"
   ]
  },
  {
   "cell_type": "markdown",
   "metadata": {},
   "source": [
    "### After applying embeddings, the model can now accurately predict the sentiment."
   ]
  }
 ],
 "metadata": {
  "colab": {
   "authorship_tag": "ABX9TyNCRdqWVk9rmFXlCSv9XkDj",
   "provenance": []
  },
  "kernelspec": {
   "display_name": "Python 3 (ipykernel)",
   "language": "python",
   "name": "python3"
  },
  "language_info": {
   "codemirror_mode": {
    "name": "ipython",
    "version": 3
   },
   "file_extension": ".py",
   "mimetype": "text/x-python",
   "name": "python",
   "nbconvert_exporter": "python",
   "pygments_lexer": "ipython3",
   "version": "3.12.4"
  }
 },
 "nbformat": 4,
 "nbformat_minor": 4
}
